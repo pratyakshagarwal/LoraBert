{
 "cells": [
  {
   "cell_type": "code",
   "execution_count": 33,
   "metadata": {},
   "outputs": [],
   "source": [
    "import pytesseract\n",
    "import streamlit as stl\n",
    "from PIL import Image\n",
    "import cv2\n",
    "from transformers import pipeline\n",
    "import warnings; warnings.filterwarnings(\"ignore\")"
   ]
  },
  {
   "cell_type": "code",
   "execution_count": 34,
   "metadata": {},
   "outputs": [],
   "source": [
    "class ImageToText:\n",
    "    def __init__(self):pytesseract.pytesseract.tesseract_cmd = r'C:\\Program Files\\Tesseract-OCR\\tesseract.exe'\n",
    "    def img_to_str(self, image_path): \n",
    "        image =  Image.open(image_path) # Load the image using PIL or OpenCV\n",
    "        return pytesseract.image_to_string(image) # Perform OCR\n",
    "    \n",
    "class TextSentiment:\n",
    "    def __init__(self, model_name:str=\"ProsusAI/finbert\"):self.ppline = pipeline(\"sentiment-analysis\", model=model_name)\n",
    "    def get_sentiment(self, text): return self.ppline(text)"
   ]
  },
  {
   "cell_type": "code",
   "execution_count": 29,
   "metadata": {},
   "outputs": [],
   "source": [
    "model_nm = \"ProsusAI/finbert\"\n",
    "img_path = r\"..\\news-headline2.jpg\""
   ]
  },
  {
   "cell_type": "code",
   "execution_count": 35,
   "metadata": {},
   "outputs": [],
   "source": [
    "extracter = ImageToText()\n",
    "analyzer = TextSentiment()"
   ]
  },
  {
   "cell_type": "code",
   "execution_count": 36,
   "metadata": {},
   "outputs": [],
   "source": [
    "extracted_text = extracter.img_to_str(img_path)\n",
    "sentiment = analyzer.get_sentiment(extracted_text)"
   ]
  },
  {
   "cell_type": "code",
   "execution_count": 37,
   "metadata": {},
   "outputs": [
    {
     "data": {
      "text/plain": [
       "[{'label': 'neutral', 'score': 0.836890697479248}]"
      ]
     },
     "execution_count": 37,
     "metadata": {},
     "output_type": "execute_result"
    }
   ],
   "source": [
    "sentiment"
   ]
  },
  {
   "cell_type": "code",
   "execution_count": null,
   "metadata": {},
   "outputs": [],
   "source": []
  }
 ],
 "metadata": {
  "kernelspec": {
   "display_name": "Python 3",
   "language": "python",
   "name": "python3"
  },
  "language_info": {
   "codemirror_mode": {
    "name": "ipython",
    "version": 3
   },
   "file_extension": ".py",
   "mimetype": "text/x-python",
   "name": "python",
   "nbconvert_exporter": "python",
   "pygments_lexer": "ipython3",
   "version": "3.11.2"
  }
 },
 "nbformat": 4,
 "nbformat_minor": 2
}
