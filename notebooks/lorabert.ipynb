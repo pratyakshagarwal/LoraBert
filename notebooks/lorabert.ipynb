{
 "cells": [
  {
   "cell_type": "code",
   "execution_count": 35,
   "metadata": {},
   "outputs": [],
   "source": [
    "import torch\n",
    "import pandas as pd\n",
    "import torch.nn as nn\n",
    "import seaborn as sns\n",
    "import matplotlib.pyplot as plt\n",
    "import torch.nn.functional as F\n",
    "import torch.nn.utils.parametrize as parametrize\n",
    "from sklearn.model_selection import train_test_split\n",
    "from torchmetrics.classification import MulticlassConfusionMatrix\n",
    "\n",
    "from transformers import AutoModel, AutoTokenizer\n",
    "\n",
    "from src.train_func import train, test\n",
    "from src.loRA import LoRAParametrization, lora_parameterization, enable_disable_lora"
   ]
  },
  {
   "cell_type": "code",
   "execution_count": 2,
   "metadata": {},
   "outputs": [],
   "source": [
    "import warnings; warnings.filterwarnings(\"ignore\")\n",
    "torch.set_printoptions(precision=3, linewidth=125, sci_mode=False)\n",
    "_=torch.manual_seed(0)"
   ]
  },
  {
   "cell_type": "code",
   "execution_count": 3,
   "metadata": {},
   "outputs": [],
   "source": [
    "RANK = 4\n",
    "MODEL_NAME = \"huawei-noah/TinyBERT_General_4L_312D\"\n",
    "DATA_PATH = \"../data/finnews.csv\"\n",
    "TRND_BERT_PTH = \"../models/whtout-lora-trainedbert.pth\"\n",
    "TRND_BERTLORA_PTH =  \"../models/wht-lora-trainedbert.pth\""
   ]
  },
  {
   "cell_type": "code",
   "execution_count": 4,
   "metadata": {},
   "outputs": [],
   "source": [
    "finbert = AutoModel.from_pretrained(MODEL_NAME)\n",
    "tokenizer = AutoTokenizer.from_pretrained(MODEL_NAME)\n",
    "total_parameter_original = sum([p.numel() for p in finbert.parameters()])"
   ]
  },
  {
   "cell_type": "code",
   "execution_count": 5,
   "metadata": {},
   "outputs": [
    {
     "data": {
      "text/plain": [
       "14350248"
      ]
     },
     "execution_count": 5,
     "metadata": {},
     "output_type": "execute_result"
    }
   ],
   "source": [
    "total_parameter_original"
   ]
  },
  {
   "cell_type": "code",
   "execution_count": 68,
   "metadata": {},
   "outputs": [],
   "source": [
    "data = pd.read_csv(DATA_PATH)\n",
    "encoders = {'neutral':0, 'positive':1, 'negative':2}\n",
    "label_encoders = {k:i for i,k in encoders.items()}\n",
    "data['sentiment'] = data['sentiment'].map(encoders)"
   ]
  },
  {
   "cell_type": "code",
   "execution_count": 7,
   "metadata": {},
   "outputs": [
    {
     "data": {
      "text/plain": [
       "<All keys matched successfully>"
      ]
     },
     "execution_count": 7,
     "metadata": {},
     "output_type": "execute_result"
    }
   ],
   "source": [
    "class FinBERTSentimentClassifier(torch.nn.Module):\n",
    "    def __init__(self, finbert):\n",
    "        super(FinBERTSentimentClassifier, self).__init__()\n",
    "        self.finbert = finbert\n",
    "        self.classifier = torch.nn.Linear(self.finbert.config.hidden_size, 3)\n",
    "\n",
    "    def forward(self, input_ids, attention_mask):\n",
    "        # Get the pooled output from FinBERT\n",
    "        outputs = self.finbert(input_ids=input_ids, attention_mask=attention_mask)\n",
    "        pooler_output = outputs.pooler_output  # Shape: (batch_size, hidden_size)\n",
    "        logits = self.classifier(pooler_output)\n",
    "        return logits\n",
    "\n",
    "model = FinBERTSentimentClassifier(finbert)\n",
    "model.load_state_dict(torch.load(TRND_BERT_PTH))"
   ]
  },
  {
   "cell_type": "code",
   "execution_count": 8,
   "metadata": {},
   "outputs": [
    {
     "name": "stdout",
     "output_type": "stream",
     "text": [
      "finbert.embeddings.word_embeddings.weight: torch.Size([30522, 312])\n",
      "finbert.embeddings.position_embeddings.weight: torch.Size([512, 312])\n",
      "finbert.embeddings.token_type_embeddings.weight: torch.Size([2, 312])\n",
      "finbert.encoder.layer.0.attention.self.query.weight: torch.Size([312, 312])\n",
      "finbert.encoder.layer.0.attention.self.query.bias: torch.Size([312])\n",
      "finbert.encoder.layer.0.attention.self.key.weight: torch.Size([312, 312])\n",
      "finbert.encoder.layer.0.attention.self.key.bias: torch.Size([312])\n",
      "finbert.encoder.layer.0.attention.self.value.weight: torch.Size([312, 312])\n",
      "finbert.encoder.layer.0.attention.self.value.bias: torch.Size([312])\n",
      "finbert.encoder.layer.0.attention.output.dense.weight: torch.Size([312, 312])\n",
      "finbert.encoder.layer.0.attention.output.dense.bias: torch.Size([312])\n",
      "finbert.encoder.layer.0.intermediate.dense.weight: torch.Size([1200, 312])\n",
      "finbert.encoder.layer.0.intermediate.dense.bias: torch.Size([1200])\n",
      "finbert.encoder.layer.0.output.dense.weight: torch.Size([312, 1200])\n",
      "finbert.encoder.layer.0.output.dense.bias: torch.Size([312])\n",
      "finbert.encoder.layer.1.attention.self.query.weight: torch.Size([312, 312])\n",
      "finbert.encoder.layer.1.attention.self.query.bias: torch.Size([312])\n",
      "finbert.encoder.layer.1.attention.self.key.weight: torch.Size([312, 312])\n",
      "finbert.encoder.layer.1.attention.self.key.bias: torch.Size([312])\n",
      "finbert.encoder.layer.1.attention.self.value.weight: torch.Size([312, 312])\n",
      "finbert.encoder.layer.1.attention.self.value.bias: torch.Size([312])\n",
      "finbert.encoder.layer.1.attention.output.dense.weight: torch.Size([312, 312])\n",
      "finbert.encoder.layer.1.attention.output.dense.bias: torch.Size([312])\n",
      "finbert.encoder.layer.1.intermediate.dense.weight: torch.Size([1200, 312])\n",
      "finbert.encoder.layer.1.intermediate.dense.bias: torch.Size([1200])\n",
      "finbert.encoder.layer.1.output.dense.weight: torch.Size([312, 1200])\n",
      "finbert.encoder.layer.1.output.dense.bias: torch.Size([312])\n",
      "finbert.encoder.layer.2.attention.self.query.weight: torch.Size([312, 312])\n",
      "finbert.encoder.layer.2.attention.self.query.bias: torch.Size([312])\n",
      "finbert.encoder.layer.2.attention.self.key.weight: torch.Size([312, 312])\n",
      "finbert.encoder.layer.2.attention.self.key.bias: torch.Size([312])\n",
      "finbert.encoder.layer.2.attention.self.value.weight: torch.Size([312, 312])\n",
      "finbert.encoder.layer.2.attention.self.value.bias: torch.Size([312])\n",
      "finbert.encoder.layer.2.attention.output.dense.weight: torch.Size([312, 312])\n",
      "finbert.encoder.layer.2.attention.output.dense.bias: torch.Size([312])\n",
      "finbert.encoder.layer.2.intermediate.dense.weight: torch.Size([1200, 312])\n",
      "finbert.encoder.layer.2.intermediate.dense.bias: torch.Size([1200])\n",
      "finbert.encoder.layer.2.output.dense.weight: torch.Size([312, 1200])\n",
      "finbert.encoder.layer.2.output.dense.bias: torch.Size([312])\n",
      "finbert.encoder.layer.3.attention.self.query.weight: torch.Size([312, 312])\n",
      "finbert.encoder.layer.3.attention.self.query.bias: torch.Size([312])\n",
      "finbert.encoder.layer.3.attention.self.key.weight: torch.Size([312, 312])\n",
      "finbert.encoder.layer.3.attention.self.key.bias: torch.Size([312])\n",
      "finbert.encoder.layer.3.attention.self.value.weight: torch.Size([312, 312])\n",
      "finbert.encoder.layer.3.attention.self.value.bias: torch.Size([312])\n",
      "finbert.encoder.layer.3.attention.output.dense.weight: torch.Size([312, 312])\n",
      "finbert.encoder.layer.3.attention.output.dense.bias: torch.Size([312])\n",
      "finbert.encoder.layer.3.intermediate.dense.weight: torch.Size([1200, 312])\n",
      "finbert.encoder.layer.3.intermediate.dense.bias: torch.Size([1200])\n",
      "finbert.encoder.layer.3.output.dense.weight: torch.Size([312, 1200])\n",
      "finbert.encoder.layer.3.output.dense.bias: torch.Size([312])\n",
      "finbert.pooler.dense.weight: torch.Size([312, 312])\n",
      "finbert.pooler.dense.bias: torch.Size([312])\n",
      "classifier.weight: torch.Size([3, 312])\n",
      "classifier.bias: torch.Size([3])\n"
     ]
    }
   ],
   "source": [
    "for name, params in model.named_parameters():\n",
    "    module = dict(model.named_modules()).get(name.rsplit('.', 1)[0])\n",
    "    if isinstance(module, (nn.Linear, nn.Embedding)):\n",
    "        print(f\"{name}: {params.shape}\")"
   ]
  },
  {
   "cell_type": "code",
   "execution_count": 9,
   "metadata": {},
   "outputs": [],
   "source": [
    "device = torch.device(\"cuda\" if torch.cuda.is_available() else \"cpu\")\n",
    "\n",
    "def apply_lora(model, layers, rank=1):\n",
    "    for name, module in model.named_modules():\n",
    "        if isinstance(module, layers):\n",
    "            parametrize.register_parametrization(\n",
    "                module, \"weight\", lora_parameterization(module, device, rank=rank)\n",
    "            )\n",
    "\n",
    "apply_lora(model=model, layers=(nn.Linear, nn.Embedding), rank=RANK)"
   ]
  },
  {
   "cell_type": "code",
   "execution_count": 10,
   "metadata": {},
   "outputs": [
    {
     "name": "stdout",
     "output_type": "stream",
     "text": [
      "W: torch.Size([30522, 312])  Lora_A: torch.Size([4, 312]) + Lora_B: torch.Size([30522, 4])\n",
      "W: torch.Size([512, 312])  Lora_A: torch.Size([4, 312]) + Lora_B: torch.Size([512, 4])\n",
      "W: torch.Size([2, 312])  Lora_A: torch.Size([4, 312]) + Lora_B: torch.Size([2, 4])\n",
      "W: torch.Size([312, 312]) + B: torch.Size([312]) Lora_A: torch.Size([4, 312]) + Lora_B: torch.Size([312, 4])\n",
      "W: torch.Size([312, 312]) + B: torch.Size([312]) Lora_A: torch.Size([4, 312]) + Lora_B: torch.Size([312, 4])\n",
      "W: torch.Size([312, 312]) + B: torch.Size([312]) Lora_A: torch.Size([4, 312]) + Lora_B: torch.Size([312, 4])\n",
      "W: torch.Size([312, 312]) + B: torch.Size([312]) Lora_A: torch.Size([4, 312]) + Lora_B: torch.Size([312, 4])\n",
      "W: torch.Size([1200, 312]) + B: torch.Size([1200]) Lora_A: torch.Size([4, 312]) + Lora_B: torch.Size([1200, 4])\n",
      "W: torch.Size([312, 1200]) + B: torch.Size([312]) Lora_A: torch.Size([4, 1200]) + Lora_B: torch.Size([312, 4])\n",
      "W: torch.Size([312, 312]) + B: torch.Size([312]) Lora_A: torch.Size([4, 312]) + Lora_B: torch.Size([312, 4])\n",
      "W: torch.Size([312, 312]) + B: torch.Size([312]) Lora_A: torch.Size([4, 312]) + Lora_B: torch.Size([312, 4])\n",
      "W: torch.Size([312, 312]) + B: torch.Size([312]) Lora_A: torch.Size([4, 312]) + Lora_B: torch.Size([312, 4])\n",
      "W: torch.Size([312, 312]) + B: torch.Size([312]) Lora_A: torch.Size([4, 312]) + Lora_B: torch.Size([312, 4])\n",
      "W: torch.Size([1200, 312]) + B: torch.Size([1200]) Lora_A: torch.Size([4, 312]) + Lora_B: torch.Size([1200, 4])\n",
      "W: torch.Size([312, 1200]) + B: torch.Size([312]) Lora_A: torch.Size([4, 1200]) + Lora_B: torch.Size([312, 4])\n",
      "W: torch.Size([312, 312]) + B: torch.Size([312]) Lora_A: torch.Size([4, 312]) + Lora_B: torch.Size([312, 4])\n",
      "W: torch.Size([312, 312]) + B: torch.Size([312]) Lora_A: torch.Size([4, 312]) + Lora_B: torch.Size([312, 4])\n",
      "W: torch.Size([312, 312]) + B: torch.Size([312]) Lora_A: torch.Size([4, 312]) + Lora_B: torch.Size([312, 4])\n",
      "W: torch.Size([312, 312]) + B: torch.Size([312]) Lora_A: torch.Size([4, 312]) + Lora_B: torch.Size([312, 4])\n",
      "W: torch.Size([1200, 312]) + B: torch.Size([1200]) Lora_A: torch.Size([4, 312]) + Lora_B: torch.Size([1200, 4])\n",
      "W: torch.Size([312, 1200]) + B: torch.Size([312]) Lora_A: torch.Size([4, 1200]) + Lora_B: torch.Size([312, 4])\n",
      "W: torch.Size([312, 312]) + B: torch.Size([312]) Lora_A: torch.Size([4, 312]) + Lora_B: torch.Size([312, 4])\n",
      "W: torch.Size([312, 312]) + B: torch.Size([312]) Lora_A: torch.Size([4, 312]) + Lora_B: torch.Size([312, 4])\n",
      "W: torch.Size([312, 312]) + B: torch.Size([312]) Lora_A: torch.Size([4, 312]) + Lora_B: torch.Size([312, 4])\n",
      "W: torch.Size([312, 312]) + B: torch.Size([312]) Lora_A: torch.Size([4, 312]) + Lora_B: torch.Size([312, 4])\n",
      "W: torch.Size([1200, 312]) + B: torch.Size([1200]) Lora_A: torch.Size([4, 312]) + Lora_B: torch.Size([1200, 4])\n",
      "W: torch.Size([312, 1200]) + B: torch.Size([312]) Lora_A: torch.Size([4, 1200]) + Lora_B: torch.Size([312, 4])\n",
      "W: torch.Size([312, 312]) + B: torch.Size([312]) Lora_A: torch.Size([4, 312]) + Lora_B: torch.Size([312, 4])\n",
      "W: torch.Size([3, 312]) + B: torch.Size([3]) Lora_A: torch.Size([4, 312]) + Lora_B: torch.Size([3, 4])\n",
      "Total number of parameters (original): 14,345,571\n",
      "Total number of parameters (original + LoRA): 14,565,535\n",
      "Parameters introduced by LoRA: 219,964\n",
      "Parameters incremment: 1.533%\n"
     ]
    }
   ],
   "source": [
    "total_parameters_lora = 0\n",
    "total_parameters_non_lora = 0\n",
    "for name, layer in model.named_modules():\n",
    "    if isinstance(layer, nn.Linear):\n",
    "        total_parameters_lora += layer.parametrizations[\"weight\"][0].lora_A.nelement() + layer.parametrizations[\"weight\"][0].lora_B.nelement()\n",
    "        total_parameters_non_lora += layer.weight.nelement() + layer.bias.nelement()\n",
    "        print(\n",
    "            f'W: {layer.weight.shape} + B: {layer.bias.shape} Lora_A: {layer.parametrizations[\"weight\"][0].lora_A.shape} + Lora_B: {layer.parametrizations[\"weight\"][0].lora_B.shape}'\n",
    "        )\n",
    "    if isinstance(layer, nn.Embedding):\n",
    "        total_parameters_lora += layer.parametrizations[\"weight\"][0].lora_A.nelement() + layer.parametrizations[\"weight\"][0].lora_B.nelement()\n",
    "        total_parameters_non_lora += layer.weight.nelement()\n",
    "        print(\n",
    "            f'W: {layer.weight.shape}  Lora_A: {layer.parametrizations[\"weight\"][0].lora_A.shape} + Lora_B: {layer.parametrizations[\"weight\"][0].lora_B.shape}'\n",
    "        )\n",
    "    # else:\n",
    "    #     total_parameters_non_lora += layer.weight.nelement()\n",
    "\n",
    "# assert total_parameters_non_lora == total_parameter_original\n",
    "print(f'Total number of parameters (original): {total_parameters_non_lora:,}')\n",
    "print(f'Total number of parameters (original + LoRA): {total_parameters_lora + total_parameters_non_lora:,}')\n",
    "print(f'Parameters introduced by LoRA: {total_parameters_lora:,}')\n",
    "parameters_incremment = (total_parameters_lora / total_parameters_non_lora) * 100\n",
    "print(f'Parameters incremment: {parameters_incremment:.3f}%')"
   ]
  },
  {
   "cell_type": "code",
   "execution_count": null,
   "metadata": {},
   "outputs": [],
   "source": [
    "def freeze_params(model):\n",
    "    for name, param in model.named_parameters():\n",
    "        # Check if 'lora' is not in the parameter name and it is not the classifier layer\n",
    "        if 'lora' not in name and 'classifier' not in name and 'fc' not in name:  # Add any keywords identifying the classifier\n",
    "            print(f'Freezing non-LoRA parameter {name}')\n",
    "            param.requires_grad = False\n",
    "\n",
    "freeze_params(model=model)"
   ]
  },
  {
   "cell_type": "code",
   "execution_count": 12,
   "metadata": {},
   "outputs": [
    {
     "name": "stdout",
     "output_type": "stream",
     "text": [
      "Frozen Parameters: 14350248\n",
      "Trainable Parameters: 220903\n"
     ]
    }
   ],
   "source": [
    "def check_frozen_parameters(model):\n",
    "    frozen_params = []\n",
    "    trainable_params = []\n",
    "\n",
    "    for name, param in model.named_parameters():\n",
    "        if param.requires_grad:\n",
    "            trainable_params.append(param)\n",
    "        else:\n",
    "            frozen_params.append(param)\n",
    "\n",
    "    print(f\"Frozen Parameters: {sum([p.nelement() for p in frozen_params])}\")\n",
    "    print(f\"Trainable Parameters: {sum([p.nelement() for p in trainable_params])}\")\n",
    "    \n",
    "check_frozen_parameters(model)"
   ]
  },
  {
   "cell_type": "code",
   "execution_count": 13,
   "metadata": {},
   "outputs": [],
   "source": [
    "class FinData(torch.utils.data.Dataset):\n",
    "    def __init__(self, x, y, tokenizer, device='cpu'):self.x,self.y,self.tokenizer,self.device = x,y,tokenizer,device\n",
    "    def __len__(self):return len(self.x)\n",
    "    def __getitem__(self, idx):\n",
    "        inputs = self.tokenizer(self.x[idx], return_tensors=\"pt\", padding=\"max_length\", truncation=True, max_length=256)\n",
    "        input_ids = inputs[\"input_ids\"].squeeze().to(self.device)\n",
    "        attention_mask = inputs[\"attention_mask\"].squeeze().to(self.device)\n",
    "        label = torch.tensor(self.y[idx], dtype=torch.long).to(self.device)\n",
    "        return {\"input_ids\": input_ids, \"attention_mask\": attention_mask}, label"
   ]
  },
  {
   "cell_type": "code",
   "execution_count": 14,
   "metadata": {},
   "outputs": [],
   "source": [
    "class GET_DLS:\n",
    "    def __init__(self, data, tsz, random_state):self.data, self.tsz, self.random_state = data, tsz, random_state\n",
    "    def get_dls(self, batch_size):\n",
    "        # split training and testing data\n",
    "        X_train, X_test, y_train, y_test = train_test_split(self.data['news'], self.data['sentiment'], test_size=self.tsz, random_state=self.random_state)\n",
    "        X_train, X_test, y_train, y_test = [df.reset_index(drop=True) for df in (X_train, X_test, y_train, y_test)]\n",
    "        \n",
    "        # make train dataset and dataloader\n",
    "        train_dataset = FinData(X_train, y_train, tokenizer)\n",
    "        train_dl = torch.utils.data.DataLoader(train_dataset, batch_size=batch_size, shuffle=True)\n",
    "        \n",
    "        # make test dataset and dataloader\n",
    "        test_dataset = FinData(X_test, y_test, tokenizer)\n",
    "        test_dl = torch.utils.data.DataLoader(test_dataset, batch_size=batch_size*2, shuffle=True)\n",
    "        \n",
    "        return train_dl, test_dl"
   ]
  },
  {
   "cell_type": "code",
   "execution_count": null,
   "metadata": {},
   "outputs": [
    {
     "data": {
      "text/plain": [
       "<All keys matched successfully>"
      ]
     },
     "execution_count": 15,
     "metadata": {},
     "output_type": "execute_result"
    }
   ],
   "source": [
    "# model.load_state_dict(torch.load(TRND_BERTLORA_PTH))"
   ]
  },
  {
   "cell_type": "code",
   "execution_count": 16,
   "metadata": {},
   "outputs": [],
   "source": [
    "TSZ = 0.33\n",
    "RANDOM_STATE = 42\n",
    "BATCH_SIZE = 8\n",
    "EPOCHS = 1\n",
    "LR = 0.001"
   ]
  },
  {
   "cell_type": "code",
   "execution_count": 17,
   "metadata": {},
   "outputs": [],
   "source": [
    "train_dl, test_dl = GET_DLS(data, tsz=TSZ, random_state=RANDOM_STATE).get_dls(BATCH_SIZE)"
   ]
  },
  {
   "cell_type": "code",
   "execution_count": 18,
   "metadata": {},
   "outputs": [
    {
     "name": "stderr",
     "output_type": "stream",
     "text": [
      "Epoch 1: 100%|██████████| 1238/1238 [27:24<00:00,  1.33s/it, loss=0.0657]\n",
      "Testing: 100%|██████████| 305/305 [05:08<00:00,  1.01s/it]"
     ]
    },
    {
     "name": "stdout",
     "output_type": "stream",
     "text": [
      "Epoch 1: train loss: 0.066, val loss: 0.256, train acc: 0.980, val acc: 0.947\n"
     ]
    },
    {
     "name": "stderr",
     "output_type": "stream",
     "text": [
      "\n"
     ]
    }
   ],
   "source": [
    "train(\n",
    "    train_loader=train_dl,\n",
    "    test_dl=test_dl,\n",
    "    net=model,\n",
    "    epochs=EPOCHS,\n",
    "    total_iterations_limit=None,\n",
    "    device=\"cpu\",\n",
    "    lr=LR\n",
    ")"
   ]
  },
  {
   "cell_type": "code",
   "execution_count": 25,
   "metadata": {},
   "outputs": [],
   "source": [
    "torch.save(model.state_dict(), \"../models/wht-lora-trainedbert.pth\")"
   ]
  },
  {
   "cell_type": "code",
   "execution_count": null,
   "metadata": {},
   "outputs": [],
   "source": [
    "from tqdm import tqdm\n",
    "def get_predictions(model, dl, device):\n",
    "    model.eval()\n",
    "    predictions,targets = [],[]\n",
    "    with torch.no_grad():\n",
    "        for data, labels in tqdm(dl, desc=\"Predicting\"):\n",
    "            input_ids = data['input_ids'].to(device)\n",
    "            attn_masks = data['attention_mask'].to(device)\n",
    "            labels = labels.to(device)\n",
    "\n",
    "            logits = model(input_ids, attn_masks)\n",
    "            outputs = F.softmax(logits, dim=-1)\n",
    "            pred = torch.argmax(outputs, dim=-1)\n",
    "\n",
    "            predictions.extend(labels.cpu().detach())\n",
    "            targets.extend(pred.cpu().detach())\n",
    "    return predictions, targets"
   ]
  },
  {
   "cell_type": "code",
   "execution_count": 22,
   "metadata": {},
   "outputs": [
    {
     "name": "stderr",
     "output_type": "stream",
     "text": [
      "Predictiong: 100%|██████████| 305/305 [06:35<00:00,  1.30s/it]\n"
     ]
    }
   ],
   "source": [
    "predictions, targets = get_predictions(model, test_dl, device=device)"
   ]
  },
  {
   "cell_type": "code",
   "execution_count": 33,
   "metadata": {},
   "outputs": [],
   "source": [
    "def plt_cmf(preds, targs, nmc, save:str=None):\n",
    "    mcm = MulticlassConfusionMatrix(num_classes=3)\n",
    "    preds = torch.tensor(preds)\n",
    "    targs = torch.tensor(targs)\n",
    "    cmf = mcm(preds, targs)\n",
    "    sns.heatmap(cmf, annot=True, fmt='g', cmap='coolwarm', linewidths=0.5)\n",
    "    if save is not None:plt.savefig(save)\n",
    "    plt.show()"
   ]
  },
  {
   "cell_type": "code",
   "execution_count": 34,
   "metadata": {},
   "outputs": [
    {
     "data": {
      "image/png": "[encoded data removed]",
      "text/plain": [
       "<Figure size 640x480 with 2 Axes>"
      ]
     },
     "metadata": {},
     "output_type": "display_data"
    }
   ],
   "source": [
    "plt_cmf(predictions, targets, nmc=3, save=\"../figures/confusion-mtx.png\")"
   ]
  },
  {
   "cell_type": "code",
   "execution_count": 66,
   "metadata": {},
   "outputs": [],
   "source": [
    "def predict_sentiments(model, dl, n, label_encoders):\n",
    "    texts, real_sentiments, predicted_sentiments = [], [], []\n",
    "\n",
    "    for data, labels in dl:\n",
    "        random_indices = torch.randint(0, data['input_ids'].size(0), (n,))\n",
    "        random_input_ids = data['input_ids'][random_indices]\n",
    "        random_attention_mask = data['attention_mask'][random_indices]\n",
    "        random_labels = labels[random_indices]\n",
    "\n",
    "        logits = model(random_input_ids, random_attention_mask)\n",
    "        preds = torch.argmax(F.softmax(logits, dim=-1), dim=-1)\n",
    "\n",
    "        texts = [tokenizer.decode(ids.cpu(), skip_special_tokens=True) for ids in random_input_ids]\n",
    "        real_sentiments = [label_encoders[label.item()] for label in random_labels]\n",
    "        predicted_sentiments = [label_encoders[pred.item()] for pred in preds]\n",
    "        break  \n",
    "\n",
    "    for i, (text, real, pred) in enumerate(zip(texts, real_sentiments, predicted_sentiments), 1):\n",
    "        print(f\"Text {i}: {text}\")\n",
    "        print(f\"  Real Sentiment: {real}\")\n",
    "        print(f\"  Predicted Sentiment: {pred}\")\n",
    "        print(\"-\" * 50)\n",
    "\n",
    "    return texts, real_sentiments, predicted_sentiments\n"
   ]
  },
  {
   "cell_type": "code",
   "execution_count": 67,
   "metadata": {},
   "outputs": [
    {
     "name": "stdout",
     "output_type": "stream",
     "text": [
      "Text 1: the purchase price was not disclosed.\n",
      "  Real Sentiment: neutral\n",
      "  Predicted Sentiment: neutral\n",
      "--------------------------------------------------\n",
      "Text 2: these moderate but significant changes resulted in a significant 24 - 32 % reduction in the estimated cvd risk.\n",
      "  Real Sentiment: positive\n",
      "  Predicted Sentiment: positive\n",
      "--------------------------------------------------\n",
      "Text 3: operating profit rose to eur2. 4 m from eur1. 6 m year earlier.\n",
      "  Real Sentiment: positive\n",
      "  Predicted Sentiment: positive\n",
      "--------------------------------------------------\n",
      "Text 4: pre - tax loss totaled eur 0. 3 mn, compared to a loss of eur 2. 2 mn in the first quarter of 2005.\n",
      "  Real Sentiment: positive\n",
      "  Predicted Sentiment: positive\n",
      "--------------------------------------------------\n",
      "Text 5: we aim to ensure that vacon is in good shape when capital expenditure starts to pick up again,'' comments vacon plc president and ceo vesa laisi.\n",
      "  Real Sentiment: positive\n",
      "  Predicted Sentiment: positive\n",
      "--------------------------------------------------\n"
     ]
    },
    {
     "data": {
      "text/plain": [
       "(['the purchase price was not disclosed.',\n",
       "  'these moderate but significant changes resulted in a significant 24 - 32 % reduction in the estimated cvd risk.',\n",
       "  'operating profit rose to eur2. 4 m from eur1. 6 m year earlier.',\n",
       "  'pre - tax loss totaled eur 0. 3 mn, compared to a loss of eur 2. 2 mn in the first quarter of 2005.',\n",
       "  \"we aim to ensure that vacon is in good shape when capital expenditure starts to pick up again,'' comments vacon plc president and ceo vesa laisi.\"],\n",
       " ['neutral', 'positive', 'positive', 'positive', 'positive'],\n",
       " ['neutral', 'positive', 'positive', 'positive', 'positive'])"
      ]
     },
     "execution_count": 67,
     "metadata": {},
     "output_type": "execute_result"
    }
   ],
   "source": [
    "predict_sentiments(model, test_dl, n=5, label_encoders=label_encoders)"
   ]
  },
  {
   "cell_type": "markdown",
   "metadata": {},
   "source": [
    "#### Export"
   ]
  }
 ],
 "metadata": {
  "kernelspec": {
   "display_name": "Python 3",
   "language": "python",
   "name": "python3"
  },
  "language_info": {
   "codemirror_mode": {
    "name": "ipython",
    "version": 3
   },
   "file_extension": ".py",
   "mimetype": "text/x-python",
   "name": "python",
   "nbconvert_exporter": "python",
   "pygments_lexer": "ipython3",
   "version": "3.11.2"
  }
 },
 "nbformat": 4,
 "nbformat_minor": 2
}
