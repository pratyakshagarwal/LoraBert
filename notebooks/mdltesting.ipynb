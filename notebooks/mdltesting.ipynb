{
 "cells": [
  {
   "cell_type": "markdown",
   "metadata": {},
   "source": [
    "#### TODO>:\n",
    "- Build a Bert Archiecture model"
   ]
  },
  {
   "cell_type": "code",
   "execution_count": 2,
   "metadata": {},
   "outputs": [],
   "source": [
    "import torch\n",
    "import torch.nn as nn\n",
    "import torch.nn.functional as F\n",
    "from dataclasses import dataclass"
   ]
  },
  {
   "cell_type": "code",
   "execution_count": 3,
   "metadata": {},
   "outputs": [],
   "source": [
    "@dataclass\n",
    "class EchoFinConfig:\n",
    "    vocab_size:int = 17000\n",
    "    dim:int = 256\n",
    "    nheads:int = 4\n",
    "    nlayers:int = 4\n",
    "    maxlen = 128\n",
    "    drop:bool= 0.25\n",
    "    num_classes:int = 3\n",
    "    \n",
    "config = EchoFinConfig()"
   ]
  },
  {
   "cell_type": "code",
   "execution_count": 4,
   "metadata": {},
   "outputs": [],
   "source": [
    "class EchoFinEmbeddings(nn.Module):\n",
    "    def __init__(self, config: EchoFinConfig) -> None:\n",
    "        super().__init__()\n",
    "        self.tok_embeddings = nn.Embedding(config.vocab_size, config.dim)\n",
    "        self.pos_embeddings = nn.Embedding(config.maxlen, config.dim)\n",
    "\n",
    "    def forward(self, tok: torch.Tensor, mask: torch.Tensor = None) -> torch.Tensor:\n",
    "        bs, sq = tok.size()\n",
    "        tok_embeds = self.tok_embeddings(tok)\n",
    "        pos_tokens = torch.arange(sq, device=tok.device).repeat(bs, 1)\n",
    "        if mask is not None:pos_tokens = pos_tokens * mask\n",
    "        embeds = tok_embeds + self.pos_embeddings(pos_tokens)\n",
    "        return embeds"
   ]
  },
  {
   "cell_type": "code",
   "execution_count": 5,
   "metadata": {},
   "outputs": [],
   "source": [
    "class FeedForward(nn.Module):\n",
    "    def __init__(self, config: EchoFinConfig) -> None:\n",
    "        super().__init__()\n",
    "        self.mlp = nn.Sequential(\n",
    "            nn.Linear(config.dim, 4 * config.dim),\n",
    "            nn.GELU(),\n",
    "            nn.Dropout(config.drop),\n",
    "            nn.Linear(4 * config.dim, config.dim)\n",
    "        )\n",
    "    def forward(self, x: torch.Tensor) -> torch.Tensor:return self.mlp(x)"
   ]
  },
  {
   "cell_type": "code",
   "execution_count": 6,
   "metadata": {},
   "outputs": [],
   "source": [
    "class EchoFinLayer(nn.Module):\n",
    "    def __init__(self, config: EchoFinConfig) -> None:\n",
    "        super().__init__()\n",
    "        self.multi_self_attention = nn.MultiheadAttention(config.dim, num_heads=config.nheads, dropout=config.drop)\n",
    "        self.norm = nn.LayerNorm(config.dim) \n",
    "        self.ffn = FeedForward(config)\n",
    "\n",
    "    def forward(self, x: torch.Tensor) -> torch.Tensor:\n",
    "        attn, _ = self.multi_self_attention(x, x, x)\n",
    "        return self.ffn(self.norm(attn))"
   ]
  },
  {
   "cell_type": "code",
   "execution_count": 7,
   "metadata": {},
   "outputs": [],
   "source": [
    "class EchoFin(nn.Module):\n",
    "    def __init__(self, config: EchoFinConfig) -> None:\n",
    "        super().__init__()\n",
    "        self.embeddings = EchoFinEmbeddings(config)\n",
    "        self.layers = nn.ModuleList([EchoFinLayer(config) for _ in range(config.nlayers)])\n",
    "        self.norm = nn.LayerNorm(config.dim) \n",
    "        self.fc_layer = nn.Linear(config.dim, config.num_classes)\n",
    "\n",
    "    def forward(self, x: torch.Tensor) -> torch.Tensor:\n",
    "        x = self.embeddings(x)\n",
    "        for l in self.layers:x = l(x)\n",
    "        logits = self.fc_layer(F.relu(self.norm(x[:, -1, :])))\n",
    "        return logits"
   ]
  },
  {
   "cell_type": "code",
   "execution_count": 8,
   "metadata": {},
   "outputs": [
    {
     "name": "stdout",
     "output_type": "stream",
     "text": [
      "torch.Size([4, 3])\n"
     ]
    }
   ],
   "source": [
    "tokens = torch.randint(0, config.vocab_size, size=(4, config.maxlen))\n",
    "model = EchoFin(config)\n",
    "output = model(tokens)\n",
    "print(output.shape)"
   ]
  },
  {
   "cell_type": "markdown",
   "metadata": {},
   "source": [
    "#### Testing HuggingFace model"
   ]
  },
  {
   "cell_type": "code",
   "execution_count": 32,
   "metadata": {},
   "outputs": [],
   "source": [
    "import warnings; warnings.filterwarnings(\"ignore\")\n",
    "import pandas as pd\n",
    "from transformers import pipeline\n",
    "\n",
    "from torchmetrics.classification import MulticlassAccuracy\n",
    "from torch.utils.data import DataLoader, Dataset"
   ]
  },
  {
   "cell_type": "code",
   "execution_count": 12,
   "metadata": {},
   "outputs": [],
   "source": [
    "data_path = r\"..\\data\\finnews.csv\""
   ]
  },
  {
   "cell_type": "code",
   "execution_count": 79,
   "metadata": {},
   "outputs": [],
   "source": [
    "data = pd.read_csv(data_path)"
   ]
  },
  {
   "cell_type": "code",
   "execution_count": 83,
   "metadata": {},
   "outputs": [],
   "source": [
    "labels = {'neutral':0, 'positive':1, 'negative':2}\n",
    "data['sentiment'] = data['sentiment'].map(labels)"
   ]
  },
  {
   "cell_type": "code",
   "execution_count": 41,
   "metadata": {},
   "outputs": [],
   "source": [
    "class Dataset(Dataset):\n",
    "    def __init__(self, x, y): self.x, self.y = x, y\n",
    "    def __len__(self): return len(self.x)\n",
    "    def __getitem__(self, idx): return self.x[idx], torch.tensor(self.y[idx], dtype=torch.float64)"
   ]
  },
  {
   "cell_type": "code",
   "execution_count": 43,
   "metadata": {},
   "outputs": [],
   "source": [
    "tdset = Dataset(data['news'].tolist(), data['sentiment'].tolist())\n",
    "test_dl = DataLoader(tdset, batch_size=128, shuffle=True)"
   ]
  },
  {
   "cell_type": "code",
   "execution_count": null,
   "metadata": {},
   "outputs": [],
   "source": [
    "def get_predictions(pipeline, dl, device, step):\n",
    "    predictions = []\n",
    "    for i in range(0, len(dl), 128):\n",
    "        lbl = pipeline(dl[i:i+step])\n",
    "        predictions.extend([labels[h['label']] for h in lbl])\n",
    "    return predictions"
   ]
  },
  {
   "cell_type": "code",
   "execution_count": null,
   "metadata": {},
   "outputs": [],
   "source": [
    "fin_pipeline = pipeline(\"sentiment-analysis\", model=\"ProsusAI/finbert\")"
   ]
  },
  {
   "cell_type": "code",
   "execution_count": 80,
   "metadata": {},
   "outputs": [],
   "source": [
    "predictions = get_predictions(fin_pipeline, data['news'].tolist(), \"cpu\", step=128)"
   ]
  },
  {
   "cell_type": "code",
   "execution_count": 84,
   "metadata": {},
   "outputs": [],
   "source": [
    "predictions = torch.tensor(predictions)\n",
    "targets = torch.tensor(data['sentiment'].tolist())"
   ]
  },
  {
   "cell_type": "code",
   "execution_count": 88,
   "metadata": {},
   "outputs": [
    {
     "data": {
      "text/plain": [
       "'accuracy:, 0.942'"
      ]
     },
     "execution_count": 88,
     "metadata": {},
     "output_type": "execute_result"
    }
   ],
   "source": [
    "metric = MulticlassAccuracy(num_classes=3)\n",
    "f\"accuracy:, {metric(predictions, targets).item():.3f}\""
   ]
  }
 ],
 "metadata": {
  "kernelspec": {
   "display_name": "Python 3",
   "language": "python",
   "name": "python3"
  },
  "language_info": {
   "codemirror_mode": {
    "name": "ipython",
    "version": 3
   },
   "file_extension": ".py",
   "mimetype": "text/x-python",
   "name": "python",
   "nbconvert_exporter": "python",
   "pygments_lexer": "ipython3",
   "version": "3.11.2"
  }
 },
 "nbformat": 4,
 "nbformat_minor": 2
}
